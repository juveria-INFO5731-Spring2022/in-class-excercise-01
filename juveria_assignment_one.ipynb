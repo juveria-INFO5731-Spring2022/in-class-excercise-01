{
  "nbformat": 4,
  "nbformat_minor": 0,
  "metadata": {
    "colab": {
      "name": "juveria assignment one.ipynb",
      "provenance": [],
      "collapsed_sections": [],
      "authorship_tag": "ABX9TyOgjaPs/TOzzsXupOFUDzep",
      "include_colab_link": true
    },
    "kernelspec": {
      "name": "python3",
      "display_name": "Python 3"
    },
    "language_info": {
      "name": "python"
    }
  },
  "cells": [
    {
      "cell_type": "markdown",
      "metadata": {
        "id": "view-in-github",
        "colab_type": "text"
      },
      "source": [
        "<a href=\"https://colab.research.google.com/github/juveria-INFO5731-Spring2022/in-class-excercise-01/blob/main/juveria_assignment_one.ipynb\" target=\"_parent\"><img src=\"https://colab.research.google.com/assets/colab-badge.svg\" alt=\"Open In Colab\"/></a>"
      ]
    },
    {
      "cell_type": "code",
      "execution_count": null,
      "metadata": {
        "colab": {
          "base_uri": "https://localhost:8080/"
        },
        "id": "eKkfWvlw4EhZ",
        "outputId": "d0d73646-ce5f-44ed-f456-b98c8fc1d8f1"
      },
      "outputs": [
        {
          "output_type": "stream",
          "name": "stdout",
          "text": [
            "[6, 2, 17, 19, 1, 10, 14, 9, 3, 12, 4, 8]\n"
          ]
        }
      ],
      "source": [
        "# To create a list of random integer values:\n",
        "import random\n",
        "randomlist = random.sample(range(1, 20), 12)\n",
        "print(randomlist)"
      ]
    },
    {
      "cell_type": "code",
      "source": [
        "import random\n",
        "def sort(num):\n",
        "    return num\n",
        "list1 = random.sample(range(1,100),12)\n",
        "list1.sort(key=sort)\n",
        "print(list1)"
      ],
      "metadata": {
        "colab": {
          "base_uri": "https://localhost:8080/"
        },
        "id": "Q38oAUzk4tmG",
        "outputId": "13ed64ee-c345-4a75-ccc4-86e9811fa2e3"
      },
      "execution_count": null,
      "outputs": [
        {
          "output_type": "stream",
          "name": "stdout",
          "text": [
            "[9, 21, 26, 32, 35, 38, 69, 76, 81, 83, 94, 98]\n"
          ]
        }
      ]
    },
    {
      "cell_type": "code",
      "source": [
        "import random\n",
        "def sort(num):\n",
        "    return num\n",
        "list1 = random.sample(range(1,100),12)\n",
        "list1.sort(key=sort,reverse=True)\n",
        "print(list1)"
      ],
      "metadata": {
        "colab": {
          "base_uri": "https://localhost:8080/"
        },
        "id": "o-ekeX8Y_kGJ",
        "outputId": "7b85f3dc-cedc-44a6-b3ea-936f65fef9f9"
      },
      "execution_count": null,
      "outputs": [
        {
          "output_type": "stream",
          "name": "stdout",
          "text": [
            "[95, 81, 76, 75, 57, 52, 45, 43, 41, 25, 12, 10]\n"
          ]
        }
      ]
    },
    {
      "cell_type": "code",
      "source": [
        "import random\n",
        "def find_Average(n):\n",
        "    sum_num = 0\n",
        "    for i in n:\n",
        "        sum_num = sum_num + i        \n",
        "    avg = sum_num / len(n)\n",
        "    return avg\n",
        "l = random.sample(range(1,100),12)\n",
        "print('The average of list = %0.2f' %find_Average(l))"
      ],
      "metadata": {
        "colab": {
          "base_uri": "https://localhost:8080/"
        },
        "id": "6xPBkPRb_2lm",
        "outputId": "18337c4b-cb84-4aa8-894f-dbd397958c9d"
      },
      "execution_count": null,
      "outputs": [
        {
          "output_type": "stream",
          "name": "stdout",
          "text": [
            "The average of list = 56.33\n"
          ]
        }
      ]
    },
    {
      "cell_type": "code",
      "source": [
        "#Ask the user to enter two sentences.\n",
        "A = str(input(\"enter first sentence\"))\n",
        "print(A)\n",
        "B = str(input(\"enter second sentence\"))\n",
        "print(B)"
      ],
      "metadata": {
        "colab": {
          "base_uri": "https://localhost:8080/"
        },
        "id": "0W-h5X_kHCP6",
        "outputId": "f1cacf56-627f-4add-b7ff-5752d04fcee3"
      },
      "execution_count": null,
      "outputs": [
        {
          "output_type": "stream",
          "name": "stdout",
          "text": [
            "enter first sentenceshe is my friend\n",
            "she is my friend\n",
            "enter second sentenceshe is not my friend\n",
            "she is not my friend\n"
          ]
        }
      ]
    },
    {
      "cell_type": "code",
      "source": [
        "sentence1 = 'Alas ! she is no more she is my friend'\n",
        "split_sentence1 = sentence1.split(' ')\n",
        "print(split_sentence1)\n"
      ],
      "metadata": {
        "colab": {
          "base_uri": "https://localhost:8080/"
        },
        "id": "uEiDAxqjOfca",
        "outputId": "e5bb42f0-cea7-41b4-deb0-d8ef8ac2ed17"
      },
      "execution_count": null,
      "outputs": [
        {
          "output_type": "stream",
          "name": "stdout",
          "text": [
            "['Alas', '!', 'she', 'is', 'no', 'more', 'she', 'is', 'my', 'friend']\n"
          ]
        }
      ]
    },
    {
      "cell_type": "code",
      "source": [
        "#compare two sentences\n",
        "string1=\"she is my friend\" \n",
        "string2=\"she is not my friend\" \n",
        "result= []\n",
        "if(len(string1)<len(string2)): \n",
        "\tfor i in string1: \n",
        "\t\tif(i in string2): \n",
        "\t\t\tresult.append(i) \n",
        "else: \n",
        "\tfor i in string2: \n",
        "\t\tif(i in string1): \n",
        "\t\t\tresult.append(i) \n",
        "print(\"Common character are:\",*result) "
      ],
      "metadata": {
        "colab": {
          "base_uri": "https://localhost:8080/"
        },
        "id": "Xdb3YBaqOMVj",
        "outputId": "6ced99fc-4793-47bf-c8b9-31d2b66abb31"
      },
      "execution_count": null,
      "outputs": [
        {
          "output_type": "stream",
          "name": "stdout",
          "text": [
            "Common character are: s h e   i s   m y   f r i e n d\n"
          ]
        }
      ]
    },
    {
      "cell_type": "code",
      "source": [
        "#Remove punctuation\n",
        "import string\n",
        "a_string = 'alas! she is no, more.'\n",
        "new_string = a_string.translate(str.maketrans('', '', string.punctuation))\n",
        "print(new_string)\n"
      ],
      "metadata": {
        "colab": {
          "base_uri": "https://localhost:8080/"
        },
        "id": "Atk8YxE0g_CK",
        "outputId": "5029b8a8-08ac-458b-f2fd-d8ed30248fff"
      },
      "execution_count": null,
      "outputs": [
        {
          "output_type": "stream",
          "name": "stdout",
          "text": [
            "alas she is no more\n"
          ]
        }
      ]
    },
    {
      "cell_type": "code",
      "source": [
        "#counting of vowels\n",
        "a_string = \"she is not my friend\"\n",
        "lowercase = a_string.lower()\n",
        "vowel_counts = {}\n",
        "for vowel in \"aeiou\":\n",
        "    count = lowercase.count(vowel)\n",
        "    vowel_counts[vowel] = count\n",
        "print(vowel_counts)"
      ],
      "metadata": {
        "colab": {
          "base_uri": "https://localhost:8080/"
        },
        "id": "FkCZ-L2ghPP9",
        "outputId": "52e77643-0288-4a0e-88cb-c4c9eb8af885"
      },
      "execution_count": null,
      "outputs": [
        {
          "output_type": "stream",
          "name": "stdout",
          "text": [
            "{'a': 0, 'e': 2, 'i': 2, 'o': 1, 'u': 0}\n"
          ]
        }
      ]
    },
    {
      "cell_type": "code",
      "execution_count": null,
      "metadata": {
        "id": "d718lV-L8h5C"
      },
      "outputs": [],
      "source": [
        "#the difference in the number of Occupied Housing\n",
        "import pandas as pd\n",
        "\n",
        "df = pd.read_csv('Assignment1_denton_housing.csv')\n",
        "df.head()\n",
        "\n",
        "from typing import List, Tuple\n",
        "def year_pairs_from_list(items: List[int]) -> List[Tuple[int, int]]:\n",
        "    shifted_items = [*items[1:], items[-1]]\n",
        "    pairs = list(zip(items, shifted_items))[:-1]\n",
        "    pairs = [\n",
        "        f'{first_year}-{second_year}' for first_year, second_year in pairs\n",
        "    ]\n",
        "\n",
        "    return pairs\n",
        "\n",
        "occupied_housing_units_df = df.loc[df['title_field'] ==\n",
        "                                   'Occupied Housing Units']\n",
        "occupied_housing_units_df = occupied_housing_units_df.sort_values(by=['year'])\n",
        "occupied_housing_units_differences = occupied_housing_units_df['value'].diff(-1).abs().to_list()[:-1]  \n",
        "year_pairs = year_pairs_from_list(occupied_housing_units_df['year'].to_list())\n",
        "occupied_housing_units_differences_df = pd.DataFrame({'Consecutive Years': year_pairs,'Occupied Housing Units Differences':occupied_housing_units_differences\n",
        "}).sort_values(by='Occupied Housing Units Differences')\n",
        "print(occupied_housing_units_differences_df.to_string(index=False))\n",
        "\n",
        "\n",
        "\n",
        "\n"
      ]
    },
    {
      "cell_type": "code",
      "execution_count": null,
      "metadata": {
        "id": "ZDqadLzF-65I"
      },
      "outputs": [],
      "source": [
        "# Calculate the percentages\n",
        "import numpy as np\n",
        "df = pd.read_csv('Assignment1_denton_housing.csv')\n",
        "df.head()\n",
        "from typing import List, Tuple\n",
        "def year_pairs_from_list(items: List[int]) -> List[Tuple[int, int]]:\n",
        "    shifted_items = [*items[1:], items[-1]]\n",
        "    pairs = list(zip(items, shifted_items))[:-1]\n",
        "    pairs = [\n",
        "        f'{first_year}-{second_year}' for first_year, second_year in pairs\n",
        "    ]\n",
        "\n",
        "    return pairs\n",
        "\n",
        "occupied_housing_units_percentages = np.rint(\n",
        "    (occupied_housing_units_df['value'].to_numpy() /\n",
        "     total_housing_units_df['value'].to_numpy()) * 100)\n",
        "vacant_housing_units_percentages = np.rint(\n",
        "    (vacant_housing_units_df['value'].to_numpy() /\n",
        "     total_housing_units_df['value'].to_numpy()) * 100)\n",
        "\n",
        "housing_units_percentages_df = pd.DataFrame({\n",
        "    'Year':\n",
        "    vacant_housing_units_df['year'].to_list(),\n",
        "    'Vacant Housing Units':\n",
        "    vacant_housing_units_percentages,\n",
        "    'Occupied Housing Units':\n",
        "    occupied_housing_units_percentages\n",
        "})\n",
        "print(housing_units_percentages_df.to_string(index=False))\n"
      ]
    },
    {
      "cell_type": "code",
      "source": [
        "#the highest number of housing units were vacant and occupied\n",
        "import numpy as np\n",
        "df = pd.read_csv('Assignment1_denton_housing.csv')\n",
        "\n",
        "max_vacant_housing_units_df = vacant_housing_units_df.loc[vacant_housing_units_df['value'] == vacant_housing_units_df['value'].max()].drop('title_field', axis=1)\n",
        "max_occupied_housing_units_df = occupied_housing_units_df.loc[occupied_housing_units_df['value'] ==occupied_housing_units_df['value'].max()].drop('title_field', axis=1)\n",
        "max_housing_units = pd.concat([max_vacant_housing_units_df, max_occupied_housing_units_df])\n",
        "max_housing_units = max_housing_units.set_index([pd.Index(['Vacant Housing Units', 'Occupied Housing Units'])])\n",
        "max_housing_units.columns = ['Year', 'Value']\n",
        "\n",
        "print(max_housing_units.to_string())"
      ],
      "metadata": {
        "id": "3rTmJD3MBR4i"
      },
      "execution_count": null,
      "outputs": []
    },
    {
      "cell_type": "code",
      "source": [
        "def harmonic_mean(a: List[int]) -> float: \n",
        "    return len(a) / np.sum(1.0 / a)\n",
        "\n",
        "total_housing_units = total_housing_units_df['value'].to_numpy()\n",
        "\n",
        "print(Harmonic mean of total housing units: {harmonic_mean(total_housing_units)}')\n"
      ],
      "metadata": {
        "id": "zU65Dzq7V31y"
      },
      "execution_count": null,
      "outputs": []
    }
  ]
}