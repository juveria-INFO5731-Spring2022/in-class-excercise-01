{
  "nbformat": 4,
  "nbformat_minor": 0,
  "metadata": {
    "colab": {
      "name": "inclass assignmentjuveria.ipynb",
      "provenance": [],
      "collapsed_sections": [],
      "authorship_tag": "ABX9TyP6gsgT5Z4C/J8CbAzu7N6r",
      "include_colab_link": true
    },
    "kernelspec": {
      "name": "python3",
      "display_name": "Python 3"
    },
    "language_info": {
      "name": "python"
    }
  },
  "cells": [
    {
      "cell_type": "markdown",
      "metadata": {
        "id": "view-in-github",
        "colab_type": "text"
      },
      "source": [
        "<a href=\"https://colab.research.google.com/github/juveria-INFO5731-Spring2022/in-class-excercise-01/blob/main/inclass_assignmentjuveria.ipynb\" target=\"_parent\"><img src=\"https://colab.research.google.com/assets/colab-badge.svg\" alt=\"Open In Colab\"/></a>"
      ]
    },
    {
      "cell_type": "code",
      "execution_count": 51,
      "metadata": {
        "id": "2LlOLpHbN_8Y"
      },
      "outputs": [],
      "source": [
        " #Length of string len() "
      ]
    },
    {
      "cell_type": "code",
      "source": [
        "Str1 = \"in class assignment of juveria\"\n",
        "print(\"the length of Str 1 is :\", len(Str1))"
      ],
      "metadata": {
        "colab": {
          "base_uri": "https://localhost:8080/"
        },
        "id": "fLa4bp9QOBM0",
        "outputId": "641ace39-7aff-4d66-8a37-07e7ec5774e1"
      },
      "execution_count": 52,
      "outputs": [
        {
          "output_type": "stream",
          "name": "stdout",
          "text": [
            "the length of Str 1 is : 30\n"
          ]
        }
      ]
    },
    {
      "cell_type": "code",
      "source": [
        "#Count the characters count()\n",
        "input_string1 = \"In class excercise of juveria\"\n",
        "count = {}\n",
        "for char in input_string1:\n",
        "  if char in count:\n",
        "    count[char]+= 1\n",
        "  else:\n",
        "    count[char]=1\n",
        "print (\"characters in '{}' is :\\n {}\" .format(input_string1, str(count)))"
      ],
      "metadata": {
        "colab": {
          "base_uri": "https://localhost:8080/"
        },
        "id": "WDg_Wa-ZRhR5",
        "outputId": "44e061a8-c99e-40a9-a6e7-6a73d57e4847"
      },
      "execution_count": 53,
      "outputs": [
        {
          "output_type": "stream",
          "name": "stdout",
          "text": [
            "characters in 'In class excercise of juveria' is :\n",
            " {'I': 1, 'n': 1, ' ': 4, 'c': 3, 'l': 1, 'a': 2, 's': 3, 'e': 4, 'x': 1, 'r': 2, 'i': 2, 'o': 1, 'f': 1, 'j': 1, 'u': 1, 'v': 1}\n"
          ]
        }
      ]
    },
    {
      "cell_type": "code",
      "source": [
        "#sum of all the items in a list sum()\n",
        "List = {1,2,3,4,5}\n",
        "sum(List)"
      ],
      "metadata": {
        "colab": {
          "base_uri": "https://localhost:8080/"
        },
        "id": "e8QwxoudVmi5",
        "outputId": "7e948131-341f-4d91-d194-f9da90655600"
      },
      "execution_count": 54,
      "outputs": [
        {
          "output_type": "execute_result",
          "data": {
            "text/plain": [
              "15"
            ]
          },
          "metadata": {},
          "execution_count": 54
        }
      ]
    },
    {
      "cell_type": "code",
      "source": [
        "#to get a string from a string\n",
        "def string_char(string1):\n",
        "  char = string1[0]\n",
        "  string1 = string1.replace(char, '\\\\$')\n",
        "  string1 = char + string1[1:]\n",
        "  return string1\n",
        "print(string_char('restart'))"
      ],
      "metadata": {
        "colab": {
          "base_uri": "https://localhost:8080/"
        },
        "id": "BPyj-Z7rW0W5",
        "outputId": "57cc8f3f-0c4a-41a2-bdc1-f04accbe3854"
      },
      "execution_count": 55,
      "outputs": [
        {
          "output_type": "stream",
          "name": "stdout",
          "text": [
            "r$esta\\$t\n"
          ]
        }
      ]
    },
    {
      "cell_type": "code",
      "source": [
        "#calculating a & b\n",
        "def multiply_numbers(a = 2,b = 4)\n",
        "    s = 3.14*(1+a/b)^3\n",
        "    return s"
      ],
      "metadata": {
        "id": "6M2KbICzg8rH"
      },
      "execution_count": null,
      "outputs": []
    },
    {
      "cell_type": "code",
      "source": [
        ""
      ],
      "metadata": {
        "id": "AWD39cVBqoF4"
      },
      "execution_count": null,
      "outputs": []
    },
    {
      "cell_type": "code",
      "source": [
        "#concatinating dictionaries\n",
        "dic1 = {1:10, 2:20} \n",
        "dic2 = {3:30, 4:40}\n",
        "dic3 = {5:50,6:60}\n",
        "dic4 = {}\n",
        "for d in (dic1, dic2, dic3): dic4.update(d)\n",
        "print(dic4)\n"
      ],
      "metadata": {
        "id": "TE8pvANEhGYx"
      },
      "execution_count": null,
      "outputs": []
    },
    {
      "cell_type": "code",
      "source": [
        "#to check a element in tuple\n",
        "t= (4,6,9,8)\n",
        "character = 4\n",
        "if character in t:\n",
        "  print(character, \"exists in t\")\n",
        "else:\n",
        "  print(character, \"dosen't exists in t\")"
      ],
      "metadata": {
        "id": "J44Vc-jkoVKm"
      },
      "execution_count": null,
      "outputs": []
    },
    {
      "cell_type": "code",
      "source": [
        "set = {5, 10, 3, 15, 2, 20}\n",
        "print(\"\\nMaximum value of the said set:\")\n",
        "print(max(set))\n",
        "print(\"\\nMinimum value of the said set:\")\n",
        "print(min(set))\n"
      ],
      "metadata": {
        "id": "SlN_S_-hqp6O"
      },
      "execution_count": null,
      "outputs": []
    },
    {
      "cell_type": "code",
      "source": [
        "#duplicate items array\n",
        "def duplicate(nums):\n",
        "    num_set = set()\n",
        "    duplicate = -1\n",
        "    for i in range(len(nums)):\n",
        "        if nums[i] in num_set:\n",
        "            return nums[i]\n",
        "        else:\n",
        "            num_set.add(nums[i])\n",
        "    return duplicate\n",
        "print(duplicate([1, 2, 3, 4, 4, 5]))\n",
        "print(duplicate([1, 2, 3, 4]))"
      ],
      "metadata": {
        "id": "Nz82U7zwsdET"
      },
      "execution_count": null,
      "outputs": []
    },
    {
      "cell_type": "code",
      "source": [
        "#selecting all sundays\n",
        "import pandas as pd\n",
        "year = \"2020\"\n",
        "start = year + \"-01-01\"\n",
        "periods = 52\n",
        "freq = \"W-SUN\"\n",
        "sundays = pd.date_range(start = start,periods = periods,freq = freq)\n",
        "print(sundays)\n"
      ],
      "metadata": {
        "id": "7VbUPinG1wYo"
      },
      "execution_count": null,
      "outputs": []
    },
    {
      "cell_type": "code",
      "source": [
        ""
      ],
      "metadata": {
        "id": "tgBMgNiq2BCh"
      },
      "execution_count": null,
      "outputs": []
    }
  ]
}